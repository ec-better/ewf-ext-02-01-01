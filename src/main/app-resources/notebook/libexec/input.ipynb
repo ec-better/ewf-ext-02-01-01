{
 "cells": [
  {
   "cell_type": "markdown",
   "metadata": {
    "slideshow": {
     "slide_type": "skip"
    }
   },
   "source": [
    "## Sentinel-1 GRD Sigma0 change detection"
   ]
  },
  {
   "cell_type": "markdown",
   "metadata": {},
   "source": [
    "### Service Definition"
   ]
  },
  {
   "cell_type": "code",
   "execution_count": 1,
   "metadata": {
    "collapsed": true
   },
   "outputs": [],
   "source": [
    "service = dict([('title', 'Sentinel-1 GRD Sigma0 change detection'),\n",
    "                ('abstract', 'Sentinel-1 GRD Sigma0 change detection'),\n",
    "                ('id', 'ewf-s1-grd-change-detection-sigma0')])"
   ]
  },
  {
   "cell_type": "markdown",
   "metadata": {},
   "source": [
    "### Runtime parameter definition"
   ]
  },
  {
   "cell_type": "code",
   "execution_count": 2,
   "metadata": {},
   "outputs": [],
   "source": [
    "polarization = dict([('id', 'polarization'),\n",
    "                     ('title', 'Polarization'),\n",
    "                     ('abstract', 'Polarization'),\n",
    "                     ('value', 'VV')])"
   ]
  },
  {
   "cell_type": "code",
   "execution_count": 3,
   "metadata": {},
   "outputs": [],
   "source": [
    "aoi = dict([('id', 'aoi'),\n",
    "              ('title', 'Area of interest'),\n",
    "              ('abstract', 'Area of interest'),\n",
    "              ('value', '-70.5659,-13.0922,-69.1411,-12.4567')])"
   ]
  },
  {
   "cell_type": "code",
   "execution_count": 4,
   "metadata": {},
   "outputs": [],
   "source": [
    "epsg_code = dict([('id', 'epsg'),\n",
    "                  ('title', 'EPSG code'),\n",
    "                  ('abstract', 'EPSG code (example: EPSG:32632)'),\n",
    "                  ('value', 'EPSG:32719')])"
   ]
  },
  {
   "cell_type": "code",
   "execution_count": 5,
   "metadata": {},
   "outputs": [],
   "source": [
    "orbit_type = dict([('id', 'orbit_type'),\n",
    "                   ('title', 'Orbit type, Restituted or Precise'),\n",
    "                   ('abstract', 'Orbit type, Restituted or Precise'),\n",
    "                   ('value', 'Precise')])"
   ]
  },
  {
   "cell_type": "markdown",
   "metadata": {},
   "source": [
    "**Input identifiers**"
   ]
  },
  {
   "cell_type": "code",
   "execution_count": 6,
   "metadata": {
    "collapsed": true
   },
   "outputs": [],
   "source": [
    "input_identifiers = ['S1B_IW_GRDH_1SDV_20180812T101414_20180812T101439_012228_01687D_BCA9',\n",
    "                     'S1B_IW_GRDH_1SDV_20180905T101415_20180905T101440_012578_017358_3259']"
   ]
  },
  {
   "cell_type": "markdown",
   "metadata": {},
   "source": [
    "**Input references**"
   ]
  },
  {
   "cell_type": "code",
   "execution_count": 7,
   "metadata": {
    "collapsed": false,
    "slideshow": {
     "slide_type": "subslide"
    }
   },
   "outputs": [],
   "source": [
    "input_references = ['https://catalog.terradue.com/sentinel1/search?uid=S1B_IW_GRDH_1SDV_20180812T101414_20180812T101439_012228_01687D_BCA9',\n",
    "                    'https://catalog.terradue.com/sentinel1/search?uid=S1B_IW_GRDH_1SDV_20180905T101415_20180905T101440_012578_017358_3259']"
   ]
  },
  {
   "cell_type": "markdown",
   "metadata": {
    "slideshow": {
     "slide_type": "slide"
    }
   },
   "source": [
    "**Data path**\n",
    "\n",
    "This path defines where the data is staged-in. "
   ]
  },
  {
   "cell_type": "code",
   "execution_count": 8,
   "metadata": {
    "collapsed": true
   },
   "outputs": [],
   "source": [
    "data_path = '/workspace/data'"
   ]
  },
  {
   "cell_type": "markdown",
   "metadata": {},
   "source": [
    "### Workflow"
   ]
  },
  {
   "cell_type": "markdown",
   "metadata": {},
   "source": [
    "#### Import the packages required for processing the data"
   ]
  },
  {
   "cell_type": "code",
   "execution_count": 48,
   "metadata": {
    "collapsed": true
   },
   "outputs": [
    {
     "name": "stdout",
     "output_type": "stream",
     "text": [
      "The autoreload extension is already loaded. To reload it, use:\n",
      "  %reload_ext autoreload\n"
     ]
    }
   ],
   "source": [
    "import os\n",
    "import sys\n",
    "sys.path.append('/application/notebook/libexec/') \n",
    "sys.path.append(os.getcwd())\n",
    "\n",
    "from helpers import *\n",
    "\n",
    "sys.path.append('/opt/OTB/lib/python')\n",
    "sys.path.append('/opt/OTB/lib/libfftw3.so.3')\n",
    "os.environ['OTB_APPLICATION_PATH'] = '/opt/OTB/lib/otb/applications'\n",
    "os.environ['LD_LIBRARY_PATH'] = '/opt/OTB/lib'\n",
    "os.environ['ITK_AUTOLOAD_PATH'] = '/opt/OTB/lib/otb/applications'\n",
    "import shutil\n",
    "\n",
    "import otbApplication\n",
    "\n",
    "%load_ext autoreload\n",
    "%autoreload 2"
   ]
  },
  {
   "cell_type": "code",
   "execution_count": 10,
   "metadata": {},
   "outputs": [],
   "source": [
    "products = get_metadata(input_references, data_path)"
   ]
  },
  {
   "cell_type": "code",
   "execution_count": 11,
   "metadata": {},
   "outputs": [
    {
     "data": {
      "text/html": [
       "<div>\n",
       "<style scoped>\n",
       "    .dataframe tbody tr th:only-of-type {\n",
       "        vertical-align: middle;\n",
       "    }\n",
       "\n",
       "    .dataframe tbody tr th {\n",
       "        vertical-align: top;\n",
       "    }\n",
       "\n",
       "    .dataframe thead th {\n",
       "        text-align: right;\n",
       "    }\n",
       "</style>\n",
       "<table border=\"1\" class=\"dataframe\">\n",
       "  <thead>\n",
       "    <tr style=\"text-align: right;\">\n",
       "      <th></th>\n",
       "      <th>enclosure</th>\n",
       "      <th>enddate</th>\n",
       "      <th>identifier</th>\n",
       "      <th>orbitDirection</th>\n",
       "      <th>orbitNumber</th>\n",
       "      <th>self</th>\n",
       "      <th>startdate</th>\n",
       "      <th>track</th>\n",
       "      <th>wkt</th>\n",
       "      <th>local_path</th>\n",
       "    </tr>\n",
       "  </thead>\n",
       "  <tbody>\n",
       "    <tr>\n",
       "      <th>0</th>\n",
       "      <td>https://store.terradue.com/download/sentinel1/...</td>\n",
       "      <td>2018-08-12T10:14:39.6162970Z</td>\n",
       "      <td>S1B_IW_GRDH_1SDV_20180812T101414_20180812T1014...</td>\n",
       "      <td>DESCENDING</td>\n",
       "      <td>12228</td>\n",
       "      <td>https://catalog.terradue.com/sentinel1/search?...</td>\n",
       "      <td>2018-08-12T10:14:14.6179730Z</td>\n",
       "      <td>127</td>\n",
       "      <td>POLYGON((-69.097801 -14.104689,-71.397171 -13....</td>\n",
       "      <td>/workspace/data/S1B_IW_GRDH_1SDV_20180812T1014...</td>\n",
       "    </tr>\n",
       "    <tr>\n",
       "      <th>1</th>\n",
       "      <td>https://store.terradue.com/download/sentinel1/...</td>\n",
       "      <td>2018-09-05T10:14:40.9330000Z</td>\n",
       "      <td>S1B_IW_GRDH_1SDV_20180905T101415_20180905T1014...</td>\n",
       "      <td>DESCENDING</td>\n",
       "      <td>12578</td>\n",
       "      <td>https://catalog.terradue.com/sentinel1/search?...</td>\n",
       "      <td>2018-09-05T10:14:15.9340000Z</td>\n",
       "      <td>127</td>\n",
       "      <td>POLYGON((-69.09922 -14.104566,-71.398491 -13.5...</td>\n",
       "      <td>/workspace/data/S1B_IW_GRDH_1SDV_20180905T1014...</td>\n",
       "    </tr>\n",
       "  </tbody>\n",
       "</table>\n",
       "</div>"
      ],
      "text/plain": [
       "                                           enclosure  \\\n",
       "0  https://store.terradue.com/download/sentinel1/...   \n",
       "1  https://store.terradue.com/download/sentinel1/...   \n",
       "\n",
       "                        enddate  \\\n",
       "0  2018-08-12T10:14:39.6162970Z   \n",
       "1  2018-09-05T10:14:40.9330000Z   \n",
       "\n",
       "                                          identifier orbitDirection  \\\n",
       "0  S1B_IW_GRDH_1SDV_20180812T101414_20180812T1014...     DESCENDING   \n",
       "1  S1B_IW_GRDH_1SDV_20180905T101415_20180905T1014...     DESCENDING   \n",
       "\n",
       "  orbitNumber                                               self  \\\n",
       "0       12228  https://catalog.terradue.com/sentinel1/search?...   \n",
       "1       12578  https://catalog.terradue.com/sentinel1/search?...   \n",
       "\n",
       "                      startdate track  \\\n",
       "0  2018-08-12T10:14:14.6179730Z   127   \n",
       "1  2018-09-05T10:14:15.9340000Z   127   \n",
       "\n",
       "                                                 wkt  \\\n",
       "0  POLYGON((-69.097801 -14.104689,-71.397171 -13....   \n",
       "1  POLYGON((-69.09922 -14.104566,-71.398491 -13.5...   \n",
       "\n",
       "                                          local_path  \n",
       "0  /workspace/data/S1B_IW_GRDH_1SDV_20180812T1014...  \n",
       "1  /workspace/data/S1B_IW_GRDH_1SDV_20180905T1014...  "
      ]
     },
     "execution_count": 11,
     "metadata": {},
     "output_type": "execute_result"
    }
   ],
   "source": [
    "products\n"
   ]
  },
  {
   "cell_type": "code",
   "execution_count": 12,
   "metadata": {},
   "outputs": [
    {
     "data": {
      "text/plain": [
       "'POLYGON ((-69.14109999999999 -13.0922, -69.14109999999999 -12.4567, -70.5659 -12.4567, -70.5659 -13.0922, -69.14109999999999 -13.0922))'"
      ]
     },
     "execution_count": 12,
     "metadata": {},
     "output_type": "execute_result"
    }
   ],
   "source": [
    "bbox_to_wkt(aoi['value'])"
   ]
  },
  {
   "cell_type": "code",
   "execution_count": 13,
   "metadata": {},
   "outputs": [
    {
     "name": "stdout",
     "output_type": "stream",
     "text": [
      "<graph>\n",
      "  <version>1.0</version>\n",
      "  <node id=\"Read-0\">\n",
      "    <operator>Read</operator>\n",
      "    <sources/>\n",
      "    <parameters class=\"com.bc.ceres.binding.dom.XppDomElement\">\n",
      "      <formatName/>\n",
      "      <file>/workspace/data/S1B_IW_GRDH_1SDV_20180812T101414_20180812T101439_012228_01687D_BCA9/S1B_IW_GRDH_1SDV_20180812T101414_20180812T101439_012228_01687D_BCA9.SAFE/manifest.safe</file>\n",
      "    </parameters>\n",
      "  </node>\n",
      "  <node id=\"Subset-0\">\n",
      "    <operator>Subset</operator>\n",
      "    <sources>\n",
      "      <sourceProduct refid=\"Read-0\"/>\n",
      "    </sources>\n",
      "    <parameters class=\"com.bc.ceres.binding.dom.XppDomElement\">\n",
      "      <tiePointGridNames/>\n",
      "      <bandNames/>\n",
      "      <subSamplingY>1</subSamplingY>\n",
      "      <subSamplingX>1</subSamplingX>\n",
      "      <region/>\n",
      "      <copyMetadata>true</copyMetadata>\n",
      "      <fullSwath>false</fullSwath>\n",
      "      <geoRegion>POLYGON ((-69.14109999999999 -13.0922, -69.14109999999999 -12.4567, -70.5659 -12.4567, -70.5659 -13.0922, -69.14109999999999 -13.0922))</geoRegion>\n",
      "    </parameters>\n",
      "  </node>\n",
      "  <node id=\"Apply-Orbit-File-0\">\n",
      "    <operator>Apply-Orbit-File</operator>\n",
      "    <sources>\n",
      "      <sourceProduct refid=\"Subset-0\"/>\n",
      "    </sources>\n",
      "    <parameters class=\"com.bc.ceres.binding.dom.XppDomElement\">\n",
      "      <polyDegree>3</polyDegree>\n",
      "      <orbitType>Sentinel Precise (Auto Download)</orbitType>\n",
      "      <continueOnFail>false</continueOnFail>\n",
      "    </parameters>\n",
      "  </node>\n",
      "  <node id=\"Calibration-0\">\n",
      "    <operator>Calibration</operator>\n",
      "    <sources>\n",
      "      <sourceProduct refid=\"Apply-Orbit-File-0\"/>\n",
      "    </sources>\n",
      "    <parameters class=\"com.bc.ceres.binding.dom.XppDomElement\">\n",
      "      <outputImageInComplex>false</outputImageInComplex>\n",
      "      <createBetaBand>false</createBetaBand>\n",
      "      <sourceBandNames/>\n",
      "      <selectedPolarisations>VV</selectedPolarisations>\n",
      "      <externalAuxFile/>\n",
      "      <outputBetaBand>false</outputBetaBand>\n",
      "      <outputSigmaBand>true</outputSigmaBand>\n",
      "      <auxFile>Latest Auxiliary File</auxFile>\n",
      "      <outputGammaBand>false</outputGammaBand>\n",
      "      <createGammaBand>false</createGammaBand>\n",
      "      <outputImageScaleInDb>false</outputImageScaleInDb>\n",
      "    </parameters>\n",
      "  </node>\n",
      "  <node id=\"Terrain-Correction-0\">\n",
      "    <operator>Terrain-Correction</operator>\n",
      "    <sources>\n",
      "      <sourceProduct refid=\"Calibration-0\"/>\n",
      "    </sources>\n",
      "    <parameters class=\"com.bc.ceres.binding.dom.XppDomElement\">\n",
      "      <applyRadiometricNormalization>false</applyRadiometricNormalization>\n",
      "      <saveSigmaNought>false</saveSigmaNought>\n",
      "      <externalDEMFile/>\n",
      "      <saveLocalIncidenceAngle>false</saveLocalIncidenceAngle>\n",
      "      <alignToStandardGrid>false</alignToStandardGrid>\n",
      "      <saveGammaNought>false</saveGammaNought>\n",
      "      <outputComplex>false</outputComplex>\n",
      "      <sourceBandNames/>\n",
      "      <saveIncidenceAngleFromEllipsoid>false</saveIncidenceAngleFromEllipsoid>\n",
      "      <saveProjectedLocalIncidenceAngle>false</saveProjectedLocalIncidenceAngle>\n",
      "      <externalDEMNoDataValue>0</externalDEMNoDataValue>\n",
      "      <mapProjection>EPSG:32719</mapProjection>\n",
      "      <auxFile>Latest Auxiliary File</auxFile>\n",
      "      <saveDEM>false</saveDEM>\n",
      "      <pixelSpacingInDegree>0</pixelSpacingInDegree>\n",
      "      <incidenceAngleForSigma0>Use projected local incidence angle from DEM</incidenceAngleForSigma0>\n",
      "      <demResamplingMethod>BILINEAR_INTERPOLATION</demResamplingMethod>\n",
      "      <externalAuxFile/>\n",
      "      <saveLatLon>false</saveLatLon>\n",
      "      <saveSelectedSourceBand>true</saveSelectedSourceBand>\n",
      "      <nodataValueAtSea>false</nodataValueAtSea>\n",
      "      <demName>SRTM 1Sec HGT</demName>\n",
      "      <standardGridOriginX>0</standardGridOriginX>\n",
      "      <standardGridOriginY>0</standardGridOriginY>\n",
      "      <pixelSpacingInMeter>10.0</pixelSpacingInMeter>\n",
      "      <incidenceAngleForGamma0>Use projected local incidence angle from DEM</incidenceAngleForGamma0>\n",
      "      <externalDEMApplyEGM>true</externalDEMApplyEGM>\n",
      "      <saveBetaNought>false</saveBetaNought>\n",
      "      <imgResamplingMethod>BILINEAR_INTERPOLATION</imgResamplingMethod>\n",
      "    </parameters>\n",
      "  </node>\n",
      "  <node id=\"Write-0\">\n",
      "    <operator>Write</operator>\n",
      "    <sources>\n",
      "      <sourceProduct refid=\"Terrain-Correction-0\"/>\n",
      "    </sources>\n",
      "    <parameters class=\"com.bc.ceres.binding.dom.XppDomElement\">\n",
      "      <deleteOutputOnFailure>true</deleteOutputOnFailure>\n",
      "      <clearCacheAfterRowWrite>false</clearCacheAfterRowWrite>\n",
      "      <formatName>BEAM-DIMAP</formatName>\n",
      "      <writeEntireTileRows>true</writeEntireTileRows>\n",
      "      <file>S1B_IW_GRDH_1SDV_20180812T101414_20180812T101439_012228_01687D_BCA9</file>\n",
      "    </parameters>\n",
      "  </node>\n",
      "</graph>\n",
      "\n",
      "Processing the graph\n",
      "Process PID: 12182\n",
      "('Executing processing graph\\n....10%....20%....30%....40%....50%....60%....70%....80%....90% done.\\n', 'INFO: org.esa.snap.core.gpf.operators.tooladapter.ToolAdapterIO: Initializing external tool adapters\\nINFO: org.hsqldb.persist.Logger: dataFileCache open start\\n')\n",
      "Done.\n",
      "<graph>\n",
      "  <version>1.0</version>\n",
      "  <node id=\"Read-1\">\n",
      "    <operator>Read</operator>\n",
      "    <sources/>\n",
      "    <parameters class=\"com.bc.ceres.binding.dom.XppDomElement\">\n",
      "      <formatName/>\n",
      "      <file>/workspace/data/S1B_IW_GRDH_1SDV_20180905T101415_20180905T101440_012578_017358_3259/S1B_IW_GRDH_1SDV_20180905T101415_20180905T101440_012578_017358_3259.SAFE/manifest.safe</file>\n",
      "    </parameters>\n",
      "  </node>\n",
      "  <node id=\"Subset-1\">\n",
      "    <operator>Subset</operator>\n",
      "    <sources>\n",
      "      <sourceProduct refid=\"Read-1\"/>\n",
      "    </sources>\n",
      "    <parameters class=\"com.bc.ceres.binding.dom.XppDomElement\">\n",
      "      <tiePointGridNames/>\n",
      "      <bandNames/>\n",
      "      <subSamplingY>1</subSamplingY>\n",
      "      <subSamplingX>1</subSamplingX>\n",
      "      <region/>\n",
      "      <copyMetadata>true</copyMetadata>\n",
      "      <fullSwath>false</fullSwath>\n",
      "      <geoRegion>POLYGON ((-69.14109999999999 -13.0922, -69.14109999999999 -12.4567, -70.5659 -12.4567, -70.5659 -13.0922, -69.14109999999999 -13.0922))</geoRegion>\n",
      "    </parameters>\n",
      "  </node>\n",
      "  <node id=\"Apply-Orbit-File-1\">\n",
      "    <operator>Apply-Orbit-File</operator>\n",
      "    <sources>\n",
      "      <sourceProduct refid=\"Subset-1\"/>\n",
      "    </sources>\n",
      "    <parameters class=\"com.bc.ceres.binding.dom.XppDomElement\">\n",
      "      <polyDegree>3</polyDegree>\n",
      "      <orbitType>Sentinel Precise (Auto Download)</orbitType>\n",
      "      <continueOnFail>false</continueOnFail>\n",
      "    </parameters>\n",
      "  </node>\n",
      "  <node id=\"Calibration-1\">\n",
      "    <operator>Calibration</operator>\n",
      "    <sources>\n",
      "      <sourceProduct refid=\"Apply-Orbit-File-1\"/>\n",
      "    </sources>\n",
      "    <parameters class=\"com.bc.ceres.binding.dom.XppDomElement\">\n",
      "      <outputImageInComplex>false</outputImageInComplex>\n",
      "      <createBetaBand>false</createBetaBand>\n",
      "      <sourceBandNames/>\n",
      "      <selectedPolarisations>VV</selectedPolarisations>\n",
      "      <externalAuxFile/>\n",
      "      <outputBetaBand>false</outputBetaBand>\n",
      "      <outputSigmaBand>true</outputSigmaBand>\n",
      "      <auxFile>Latest Auxiliary File</auxFile>\n",
      "      <outputGammaBand>false</outputGammaBand>\n",
      "      <createGammaBand>false</createGammaBand>\n",
      "      <outputImageScaleInDb>false</outputImageScaleInDb>\n",
      "    </parameters>\n",
      "  </node>\n",
      "  <node id=\"Terrain-Correction-1\">\n",
      "    <operator>Terrain-Correction</operator>\n",
      "    <sources>\n",
      "      <sourceProduct refid=\"Calibration-1\"/>\n",
      "    </sources>\n",
      "    <parameters class=\"com.bc.ceres.binding.dom.XppDomElement\">\n",
      "      <applyRadiometricNormalization>false</applyRadiometricNormalization>\n",
      "      <saveSigmaNought>false</saveSigmaNought>\n",
      "      <externalDEMFile/>\n",
      "      <saveLocalIncidenceAngle>false</saveLocalIncidenceAngle>\n",
      "      <alignToStandardGrid>false</alignToStandardGrid>\n",
      "      <saveGammaNought>false</saveGammaNought>\n",
      "      <outputComplex>false</outputComplex>\n",
      "      <sourceBandNames/>\n",
      "      <saveIncidenceAngleFromEllipsoid>false</saveIncidenceAngleFromEllipsoid>\n",
      "      <saveProjectedLocalIncidenceAngle>false</saveProjectedLocalIncidenceAngle>\n",
      "      <externalDEMNoDataValue>0</externalDEMNoDataValue>\n",
      "      <mapProjection>EPSG:32719</mapProjection>\n",
      "      <auxFile>Latest Auxiliary File</auxFile>\n",
      "      <saveDEM>false</saveDEM>\n",
      "      <pixelSpacingInDegree>0</pixelSpacingInDegree>\n",
      "      <incidenceAngleForSigma0>Use projected local incidence angle from DEM</incidenceAngleForSigma0>\n",
      "      <demResamplingMethod>BILINEAR_INTERPOLATION</demResamplingMethod>\n",
      "      <externalAuxFile/>\n",
      "      <saveLatLon>false</saveLatLon>\n",
      "      <saveSelectedSourceBand>true</saveSelectedSourceBand>\n",
      "      <nodataValueAtSea>false</nodataValueAtSea>\n",
      "      <demName>SRTM 1Sec HGT</demName>\n",
      "      <standardGridOriginX>0</standardGridOriginX>\n",
      "      <standardGridOriginY>0</standardGridOriginY>\n",
      "      <pixelSpacingInMeter>10.0</pixelSpacingInMeter>\n",
      "      <incidenceAngleForGamma0>Use projected local incidence angle from DEM</incidenceAngleForGamma0>\n",
      "      <externalDEMApplyEGM>true</externalDEMApplyEGM>\n",
      "      <saveBetaNought>false</saveBetaNought>\n",
      "      <imgResamplingMethod>BILINEAR_INTERPOLATION</imgResamplingMethod>\n",
      "    </parameters>\n",
      "  </node>\n",
      "  <node id=\"Write-1\">\n",
      "    <operator>Write</operator>\n",
      "    <sources>\n",
      "      <sourceProduct refid=\"Terrain-Correction-1\"/>\n",
      "    </sources>\n",
      "    <parameters class=\"com.bc.ceres.binding.dom.XppDomElement\">\n",
      "      <deleteOutputOnFailure>true</deleteOutputOnFailure>\n",
      "      <clearCacheAfterRowWrite>false</clearCacheAfterRowWrite>\n",
      "      <formatName>BEAM-DIMAP</formatName>\n",
      "      <writeEntireTileRows>true</writeEntireTileRows>\n",
      "      <file>S1B_IW_GRDH_1SDV_20180905T101415_20180905T101440_012578_017358_3259</file>\n",
      "    </parameters>\n",
      "  </node>\n",
      "</graph>\n",
      "\n",
      "Processing the graph\n",
      "Process PID: 12256\n",
      "('Executing processing graph\\n....10%....20%....30%....40%....50%....60%....70%....80%....90% done.\\n', 'INFO: org.esa.snap.core.gpf.operators.tooladapter.ToolAdapterIO: Initializing external tool adapters\\nINFO: org.hsqldb.persist.Logger: dataFileCache open start\\n')\n",
      "Done.\n"
     ]
    }
   ],
   "source": [
    "pre_process(products=products,\n",
    "             aoi=bbox_to_wkt(aoi['value']),\n",
    "             utm_zone=epsg_code['value'],\n",
    "             polarization=polarization['value'], \n",
    "             orbit_type=orbit_type['value'],\n",
    "             show_graph=True)"
   ]
  },
  {
   "cell_type": "code",
   "execution_count": null,
   "metadata": {},
   "outputs": [],
   "source": []
  },
  {
   "cell_type": "code",
   "execution_count": 14,
   "metadata": {},
   "outputs": [
    {
     "name": "stdout",
     "output_type": "stream",
     "text": [
      "<graph>\n",
      "  <version>1.0</version>\n",
      "  <node id=\"ProductSet-Reader\">\n",
      "    <operator>ProductSet-Reader</operator>\n",
      "    <sources/>\n",
      "    <parameters class=\"com.bc.ceres.binding.dom.XppDomElement\">\n",
      "      <fileList>S1B_IW_GRDH_1SDV_20180812T101414_20180812T101439_012228_01687D_BCA9.dim,S1B_IW_GRDH_1SDV_20180905T101415_20180905T101440_012578_017358_3259.dim</fileList>\n",
      "    </parameters>\n",
      "  </node>\n",
      "  <node id=\"CreateStack\">\n",
      "    <operator>CreateStack</operator>\n",
      "    <sources>\n",
      "      <sourceProduct refid=\"ProductSet-Reader\"/>\n",
      "    </sources>\n",
      "    <parameters class=\"com.bc.ceres.binding.dom.XppDomElement\">\n",
      "      <resamplingType>BICUBIC_INTERPOLATION</resamplingType>\n",
      "      <initialOffsetMethod>Orbit</initialOffsetMethod>\n",
      "      <masterBandNames/>\n",
      "      <slaveBandNames/>\n",
      "      <extent>Minimum</extent>\n",
      "    </parameters>\n",
      "  </node>\n",
      "  <node id=\"Write\">\n",
      "    <operator>Write</operator>\n",
      "    <sources>\n",
      "      <sourceProduct refid=\"CreateStack\"/>\n",
      "    </sources>\n",
      "    <parameters class=\"com.bc.ceres.binding.dom.XppDomElement\">\n",
      "      <deleteOutputOnFailure>true</deleteOutputOnFailure>\n",
      "      <clearCacheAfterRowWrite>false</clearCacheAfterRowWrite>\n",
      "      <formatName>BEAM-DIMAP</formatName>\n",
      "      <writeEntireTileRows>true</writeEntireTileRows>\n",
      "      <file>stack</file>\n",
      "    </parameters>\n",
      "  </node>\n",
      "</graph>\n",
      "\n",
      "Processing the graph\n",
      "Process PID: 12336\n",
      "('Executing processing graph\\n======\\nMaster: 12Aug2018\\nSlave: 12Aug2018 prep baseline: 0.0 temp baseline: 0.0\\nSlave: 05Sep2018 prep baseline: 118.69954 temp baseline: -24.000015\\n\\n======\\nMaster: 05Sep2018\\nSlave: 12Aug2018 prep baseline: -118.69903 temp baseline: 24.000015\\nSlave: 05Sep2018 prep baseline: 0.0 temp baseline: 0.0\\n\\n....10%....20%....30%....40%....50%....60%....70%....80%....90% done.\\n', 'INFO: org.esa.snap.core.gpf.operators.tooladapter.ToolAdapterIO: Initializing external tool adapters\\nINFO: org.hsqldb.persist.Logger: dataFileCache open start\\n-- org.jblas INFO Deleting /tmp/jblas685174710373568795/libjblas.so\\n-- org.jblas INFO Deleting /tmp/jblas685174710373568795/libjblas_arch_flavor.so\\n-- org.jblas INFO Deleting /tmp/jblas685174710373568795\\n')\n",
      "Done.\n"
     ]
    }
   ],
   "source": [
    "create_stack(products)"
   ]
  },
  {
   "cell_type": "code",
   "execution_count": 15,
   "metadata": {},
   "outputs": [],
   "source": [
    "stack_bands = list_bands('stack.dim')"
   ]
  },
  {
   "cell_type": "code",
   "execution_count": 16,
   "metadata": {},
   "outputs": [
    {
     "data": {
      "text/plain": [
       "['Sigma0_VV_mst_12Aug2018', 'Sigma0_VV_slv1_05Sep2018']"
      ]
     },
     "execution_count": 16,
     "metadata": {},
     "output_type": "execute_result"
    }
   ],
   "source": [
    "stack_bands"
   ]
  },
  {
   "cell_type": "code",
   "execution_count": 17,
   "metadata": {},
   "outputs": [],
   "source": [
    "change_detection_expression = '({0} &gt; 0.0001) &amp;&amp; ({1} &gt; 0.0001) &amp;&amp; (abs(log10({0} / {1})) &gt; 1) &amp;&amp; ({0} &gt; 0.05 || {1} &gt; 0.05)'.format(stack_bands[0], stack_bands[1])"
   ]
  },
  {
   "cell_type": "code",
   "execution_count": 18,
   "metadata": {},
   "outputs": [
    {
     "data": {
      "text/plain": [
       "'(Sigma0_VV_mst_12Aug2018 &gt; 0.0001) &amp;&amp; (Sigma0_VV_slv1_05Sep2018 &gt; 0.0001) &amp;&amp; (abs(log10(Sigma0_VV_mst_12Aug2018 / Sigma0_VV_slv1_05Sep2018)) &gt; 1) &amp;&amp; (Sigma0_VV_mst_12Aug2018 &gt; 0.05 || Sigma0_VV_slv1_05Sep2018 &gt; 0.05)'"
      ]
     },
     "execution_count": 18,
     "metadata": {},
     "output_type": "execute_result"
    }
   ],
   "source": [
    "change_detection_expression"
   ]
  },
  {
   "cell_type": "code",
   "execution_count": 20,
   "metadata": {},
   "outputs": [
    {
     "name": "stdout",
     "output_type": "stream",
     "text": [
      "Processing the graph\n",
      "Process PID: 12562\n",
      "('Executing processing graph\\n....10%....20%....30%....40%....50%....60%....70%....80%....90% done.\\n', 'INFO: org.esa.snap.core.gpf.operators.tooladapter.ToolAdapterIO: Initializing external tool adapters\\nINFO: org.hsqldb.persist.Logger: dataFileCache open start\\n')\n",
      "Done.\n"
     ]
    }
   ],
   "source": [
    "change_detection('stack.dim', change_detection_expression)"
   ]
  },
  {
   "cell_type": "code",
   "execution_count": 24,
   "metadata": {},
   "outputs": [
    {
     "name": "stdout",
     "output_type": "stream",
     "text": [
      "Processing the graph\n",
      "Process PID: 12822\n",
      "('Executing processing graph\\n....10%....20%....30%....40%....50%....60%....70%....80%....90% done.\\n', 'INFO: org.esa.snap.core.gpf.operators.tooladapter.ToolAdapterIO: Initializing external tool adapters\\nINFO: org.hsqldb.persist.Logger: dataFileCache open start\\n')\n",
      "Done.\n",
      "Processing the graph\n",
      "Process PID: 12884\n",
      "('Executing processing graph\\n....10%....20%....30%....40%....50%....60%....70%....80%....90% done.\\n', 'INFO: org.esa.snap.core.gpf.operators.tooladapter.ToolAdapterIO: Initializing external tool adapters\\nINFO: org.hsqldb.persist.Logger: dataFileCache open start\\n')\n",
      "Done.\n"
     ]
    },
    {
     "data": {
      "text/plain": [
       "[None, None]"
      ]
     },
     "execution_count": 24,
     "metadata": {},
     "output_type": "execute_result"
    }
   ],
   "source": [
    "[convert_dim('{}.dim'.format(n)) for n in products.identifier.values]\n"
   ]
  },
  {
   "cell_type": "markdown",
   "metadata": {},
   "source": [
    "#### Match the intensities to the dimension of the change detection GeoTIFF"
   ]
  },
  {
   "cell_type": "code",
   "execution_count": 37,
   "metadata": {},
   "outputs": [],
   "source": [
    "import otbApplication\n",
    "\n",
    "for index in range(2):\n",
    "    \n",
    "    Superimpose = otbApplication.Registry.CreateApplication(\"Superimpose\")\n",
    "\n",
    "\n",
    "    Superimpose.SetParameterString('inr', 'temp_result.tif')\n",
    "    Superimpose.SetParameterString('inm', ['{}_db.tif'.format(n) for n in products.identifier.values][index])\n",
    "    Superimpose.SetParameterString('out', ['{}_db_si.tif'.format(n) for n in products.identifier.values][index])\n",
    "\n",
    "    Superimpose.ExecuteAndWriteOutput()"
   ]
  },
  {
   "cell_type": "markdown",
   "metadata": {},
   "source": [
    "#### RGB with intensities"
   ]
  },
  {
   "cell_type": "code",
   "execution_count": 38,
   "metadata": {},
   "outputs": [
    {
     "data": {
      "text/plain": [
       "0"
      ]
     },
     "execution_count": 38,
     "metadata": {},
     "output_type": "execute_result"
    }
   ],
   "source": [
    "r_channel = 'im1b1'\n",
    "g_channel = '0'\n",
    "b_channel = 'im2b1'\n",
    "\n",
    "band_expressions = [r_channel, \n",
    "                    g_channel, \n",
    "                    b_channel]\n",
    "\n",
    "\n",
    "BandMathX = otbApplication.Registry.CreateApplication(\"BandMathX\")\n",
    "\n",
    "BandMathX.SetParameterStringList('il', [['{}_db_si.tif'.format(n) for n in products.identifier.values][0] ,\n",
    "                                       ['{}_db_si.tif'.format(n) for n in products.identifier.values][1]])\n",
    "\n",
    "BandMathX.SetParameterString('out', 'temp.tif')\n",
    "\n",
    "BandMathX.SetParameterString('exp', ';'.join(band_expressions))\n",
    "\n",
    "BandMathX.ExecuteAndWriteOutput()"
   ]
  },
  {
   "cell_type": "code",
   "execution_count": 39,
   "metadata": {},
   "outputs": [
    {
     "data": {
      "text/plain": [
       "0"
      ]
     },
     "execution_count": 39,
     "metadata": {},
     "output_type": "execute_result"
    }
   ],
   "source": [
    "Convert = otbApplication.Registry.CreateApplication('Convert')\n",
    "\n",
    "\n",
    "Convert.SetParameterString('in', 'temp.tif')\n",
    "\n",
    "Convert.SetParameterString('out', 'temp_{}.tif'.format('rgb'))\n",
    "\n",
    "Convert.SetParameterString('type', 'linear')\n",
    "\n",
    "Convert.SetParameterString('channels', 'rgb')\n",
    "\n",
    "Convert.ExecuteAndWriteOutput()"
   ]
  },
  {
   "cell_type": "markdown",
   "metadata": {},
   "source": [
    "#### RGB with intensities and change detection map"
   ]
  },
  {
   "cell_type": "code",
   "execution_count": 40,
   "metadata": {},
   "outputs": [
    {
     "data": {
      "text/plain": [
       "0"
      ]
     },
     "execution_count": 40,
     "metadata": {},
     "output_type": "execute_result"
    }
   ],
   "source": [
    "r_channel = 'im1b1'\n",
    "g_channel = 'im2b1'\n",
    "b_channel = 'im3b1'\n",
    "\n",
    "band_expressions = [r_channel, \n",
    "                    g_channel, \n",
    "                    b_channel]\n",
    "\n",
    "\n",
    "BandMathX = otbApplication.Registry.CreateApplication(\"BandMathX\")\n",
    "\n",
    "BandMathX.SetParameterStringList('il', [['{}_db_si.tif'.format(n) for n in products.identifier.values][0],\n",
    "                                       ['{}_db_si.tif'.format(n) for n in products.identifier.values][1], \n",
    "                                        'temp_result.tif'])\n",
    "\n",
    "BandMathX.SetParameterString('out', 'temp_1.tif')\n",
    "\n",
    "BandMathX.SetParameterString('exp', ';'.join(band_expressions))\n",
    "\n",
    "BandMathX.ExecuteAndWriteOutput()"
   ]
  },
  {
   "cell_type": "code",
   "execution_count": 41,
   "metadata": {},
   "outputs": [
    {
     "data": {
      "text/plain": [
       "0"
      ]
     },
     "execution_count": 41,
     "metadata": {},
     "output_type": "execute_result"
    }
   ],
   "source": [
    "Convert = otbApplication.Registry.CreateApplication('Convert')\n",
    "\n",
    "\n",
    "Convert.SetParameterString('in', 'temp_1.tif')\n",
    "\n",
    "Convert.SetParameterString('out', 'temp_1_{}.tif'.format('rgb'))\n",
    "\n",
    "Convert.SetParameterString('type', 'linear')\n",
    "\n",
    "Convert.SetParameterString('channels', 'rgb')\n",
    "\n",
    "Convert.ExecuteAndWriteOutput()"
   ]
  },
  {
   "cell_type": "markdown",
   "metadata": {},
   "source": [
    "#### Cloud optimized GeoTIFF"
   ]
  },
  {
   "cell_type": "code",
   "execution_count": 44,
   "metadata": {},
   "outputs": [],
   "source": [
    "products['startdate'] = pd.to_datetime(products['startdate'])\n",
    "products['enddate'] = pd.to_datetime(products['enddate'])\n",
    "\n",
    "output_startdate = min(products['startdate'])\n",
    "output_stopdate = max(products['enddate'])\n",
    "\n",
    "date_format = '%Y%m%dT%H%m%S'\n",
    "\n",
    "\n",
    "output_name = 'CHANGE_DETECTION-{0}-{1}'.format(output_startdate.strftime(date_format), \n",
    "                                                 output_stopdate.strftime(date_format))"
   ]
  },
  {
   "cell_type": "code",
   "execution_count": 45,
   "metadata": {},
   "outputs": [
    {
     "data": {
      "text/plain": [
       "'CHANGE_DETECTION-20180812T100814-20180905T100940'"
      ]
     },
     "execution_count": 45,
     "metadata": {},
     "output_type": "execute_result"
    }
   ],
   "source": [
    "output_name"
   ]
  },
  {
   "cell_type": "code",
   "execution_count": 49,
   "metadata": {},
   "outputs": [],
   "source": [
    "cog('temp_{}.tif'.format('rgb'), '{}-COMPOSITE-1.tif'.format(output_name))\n",
    "cog('temp_1_{}.tif'.format('rgb'), '{}-COMPOSITE-2.tif'.format(output_name))\n"
   ]
  },
  {
   "cell_type": "code",
   "execution_count": null,
   "metadata": {},
   "outputs": [],
   "source": [
    "for properties_file in ['result', 'stage-in', '{}-COMPOSITE-1'.format(output_name), '{}-COMPOSITE-2'.format(output_name)]:\n",
    "\n",
    "    date_format = '%Y-%m-%dT%H:%m:%SZ'\n",
    "    \n",
    "    if properties_file == 'result':\n",
    "        \n",
    "        title = 'Reproducibility notebook used for generating {0}'.format(output_name)\n",
    "   \n",
    "    elif properties_file == 'stage-in':\n",
    "\n",
    "        title = 'Reproducibility stage-in notebook for Sentinel-1 data for generating {0}'.format(output_name)\n",
    "    \n",
    "    else: \n",
    "      \n",
    "        title = 'Change detection for {0} to {1}'.format(output_startdate.strftime(date_format),\n",
    "                                                                  output_stopdate.strftime(date_format))\n",
    "        \n",
    "    with open(properties_file + '.properties', 'wb') as file:\n",
    "        file.write('title={0}\\n'.format(title))\n",
    "        file.write('date={0}/{1}\\n'.format(output_startdate.strftime(date_format),\n",
    "                                           output_stopdate.strftime(date_format)))\n",
    "        file.write('geometry={0}'.format(get_image_wkt(output_name + '.tif')))"
   ]
  },
  {
   "cell_type": "code",
   "execution_count": 50,
   "metadata": {},
   "outputs": [
    {
     "ename": "OSError",
     "evalue": "[Errno 2] No such file or directory: 'S1B_IW_GRDH_1SDV_20180812T101414_20180812T101439_012228_01687D_BCA9.tif'",
     "output_type": "error",
     "traceback": [
      "\u001b[0;31m\u001b[0m",
      "\u001b[0;31mOSError\u001b[0mTraceback (most recent call last)",
      "\u001b[0;32m<ipython-input-50-5190c71f4d62>\u001b[0m in \u001b[0;36m<module>\u001b[0;34m()\u001b[0m\n\u001b[1;32m      4\u001b[0m \u001b[0;34m\u001b[0m\u001b[0m\n\u001b[1;32m      5\u001b[0m \u001b[0;32mfor\u001b[0m \u001b[0mindex\u001b[0m \u001b[0;32min\u001b[0m \u001b[0mrange\u001b[0m\u001b[0;34m(\u001b[0m\u001b[0;36m2\u001b[0m\u001b[0;34m)\u001b[0m\u001b[0;34m:\u001b[0m\u001b[0;34m\u001b[0m\u001b[0m\n\u001b[0;32m----> 6\u001b[0;31m     \u001b[0mos\u001b[0m\u001b[0;34m.\u001b[0m\u001b[0mremove\u001b[0m\u001b[0;34m(\u001b[0m\u001b[0;34m[\u001b[0m\u001b[0;34m'{}.tif'\u001b[0m\u001b[0;34m.\u001b[0m\u001b[0mformat\u001b[0m\u001b[0;34m(\u001b[0m\u001b[0mn\u001b[0m\u001b[0;34m)\u001b[0m \u001b[0;32mfor\u001b[0m \u001b[0mn\u001b[0m \u001b[0;32min\u001b[0m \u001b[0mproducts\u001b[0m\u001b[0;34m.\u001b[0m\u001b[0midentifier\u001b[0m\u001b[0;34m.\u001b[0m\u001b[0mvalues\u001b[0m\u001b[0;34m]\u001b[0m\u001b[0;34m[\u001b[0m\u001b[0mindex\u001b[0m\u001b[0;34m]\u001b[0m\u001b[0;34m)\u001b[0m\u001b[0;34m\u001b[0m\u001b[0m\n\u001b[0m\u001b[1;32m      7\u001b[0m     \u001b[0mos\u001b[0m\u001b[0;34m.\u001b[0m\u001b[0mremove\u001b[0m\u001b[0;34m(\u001b[0m\u001b[0;34m[\u001b[0m\u001b[0;34m'{}_db.tif'\u001b[0m\u001b[0;34m.\u001b[0m\u001b[0mformat\u001b[0m\u001b[0;34m(\u001b[0m\u001b[0mn\u001b[0m\u001b[0;34m)\u001b[0m \u001b[0;32mfor\u001b[0m \u001b[0mn\u001b[0m \u001b[0;32min\u001b[0m \u001b[0mproducts\u001b[0m\u001b[0;34m.\u001b[0m\u001b[0midentifier\u001b[0m\u001b[0;34m.\u001b[0m\u001b[0mvalues\u001b[0m\u001b[0;34m]\u001b[0m\u001b[0;34m[\u001b[0m\u001b[0mindex\u001b[0m\u001b[0;34m]\u001b[0m\u001b[0;34m)\u001b[0m\u001b[0;34m\u001b[0m\u001b[0m\n\u001b[1;32m      8\u001b[0m     \u001b[0mos\u001b[0m\u001b[0;34m.\u001b[0m\u001b[0mremove\u001b[0m\u001b[0;34m(\u001b[0m\u001b[0;34m[\u001b[0m\u001b[0;34m'{}_db_si.tif'\u001b[0m\u001b[0;34m.\u001b[0m\u001b[0mformat\u001b[0m\u001b[0;34m(\u001b[0m\u001b[0mn\u001b[0m\u001b[0;34m)\u001b[0m \u001b[0;32mfor\u001b[0m \u001b[0mn\u001b[0m \u001b[0;32min\u001b[0m \u001b[0mproducts\u001b[0m\u001b[0;34m.\u001b[0m\u001b[0midentifier\u001b[0m\u001b[0;34m.\u001b[0m\u001b[0mvalues\u001b[0m\u001b[0;34m]\u001b[0m\u001b[0;34m[\u001b[0m\u001b[0mindex\u001b[0m\u001b[0;34m]\u001b[0m\u001b[0;34m)\u001b[0m\u001b[0;34m\u001b[0m\u001b[0m\n",
      "\u001b[0;31mOSError\u001b[0m: [Errno 2] No such file or directory: 'S1B_IW_GRDH_1SDV_20180812T101414_20180812T101439_012228_01687D_BCA9.tif'"
     ]
    }
   ],
   "source": [
    "os.remove('temp_1.tif')\n",
    "os.remove('temp.tif')\n",
    "os.remove('temp_result.tif')\n",
    "\n",
    "for index in range(2):\n",
    "    os.remove(['{}.tif'.format(n) for n in products.identifier.values][index])\n",
    "    os.remove(['{}_db.tif'.format(n) for n in products.identifier.values][index])\n",
    "    os.remove(['{}_db_si.tif'.format(n) for n in products.identifier.values][index])\n",
    "    os.remove(['{}.dim'.format(n) for n in products.identifier.values][index])\n",
    "    shutil.rmtree(['{}.data'.format(n) for n in products.identifier.values][index])"
   ]
  },
  {
   "cell_type": "markdown",
   "metadata": {
    "slideshow": {
     "slide_type": "slide"
    }
   },
   "source": [
    "### License"
   ]
  },
  {
   "cell_type": "markdown",
   "metadata": {
    "slideshow": {
     "slide_type": "subslide"
    }
   },
   "source": [
    "This work is licenced under a [Attribution-ShareAlike 4.0 International License (CC BY-SA 4.0)](http://creativecommons.org/licenses/by-sa/4.0/) \n",
    "\n",
    "YOU ARE FREE TO:\n",
    "\n",
    "* Share - copy and redistribute the material in any medium or format.\n",
    "* Adapt - remix, transform, and built upon the material for any purpose, even commercially.\n",
    "\n",
    "UNDER THE FOLLOWING TERMS:\n",
    "\n",
    "* Attribution - You must give appropriate credit, provide a link to the license, and indicate if changes were made. You may do so in any reasonable manner, but not in any way that suggests the licensor endorses you or your use.\n",
    "* ShareAlike - If you remix, transform, or build upon the material, you must distribute your contributions under the same license as the original."
   ]
  },
  {
   "cell_type": "code",
   "execution_count": null,
   "metadata": {},
   "outputs": [],
   "source": []
  }
 ],
 "metadata": {
  "kernelspec": {
   "display_name": "Python 2",
   "language": "python",
   "name": "python2"
  },
  "language_info": {
   "codemirror_mode": {
    "name": "ipython",
    "version": 2
   },
   "file_extension": ".py",
   "mimetype": "text/x-python",
   "name": "python",
   "nbconvert_exporter": "python",
   "pygments_lexer": "ipython2",
   "version": "2.7.12"
  }
 },
 "nbformat": 4,
 "nbformat_minor": 2
}
